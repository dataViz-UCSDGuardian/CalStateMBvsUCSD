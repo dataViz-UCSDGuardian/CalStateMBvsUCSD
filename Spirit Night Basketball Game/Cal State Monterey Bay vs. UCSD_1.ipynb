{
 "cells": [
  {
   "cell_type": "code",
<<<<<<< HEAD
   "execution_count": 1,
=======
   "execution_count": null,
>>>>>>> 67f07fb9616e9c589962042034193792f29f8b55
   "metadata": {
    "collapsed": false
   },
   "outputs": [],
   "source": [
    "import pandas as pd\n",
    "import numpy as np\n",
    "import matplotlib.pyplot as plt\n",
<<<<<<< HEAD
    "import bokeh.charts as bk\n",
    "import bokeh.plotting as plot\n",
=======
>>>>>>> 67f07fb9616e9c589962042034193792f29f8b55
    "\n",
    "data = pd.read_table(\"CalStateMBvsUCSD.txt\", delimiter = '\\t')\n",
    "del data[\"HOME TEAM: UC San Diego\"]\n",
    "del data[\"VISITORS: Cal State Monterey Bay\"]\n",
    "del data[\"Score\"]\n",
    "\n",
    "time = []\n",
    "for row in data['Time']:\n",
    "    \n",
    "    row = row.replace(\":\",\".\")\n",
    "    row = float(row)\n",
    "    \n",
    "    time.append(row)\n",
    "data['Time'] = time\n",
    "\n",
    "timechange = []\n",
    "\n",
    "i=0\n",
    "for row in data['Time']:\n",
<<<<<<< HEAD
    "    if i < 173:\n",
=======
    "    if i < 174:\n",
>>>>>>> 67f07fb9616e9c589962042034193792f29f8b55
    "        row = row + 20\n",
    "        timechange.append(row)\n",
    "    else:\n",
    "        timechange.append(row)\n",
    "    i = i + 1\n",
    "\n",
    "data['Time'] = timechange\n",
    "    \n",
    "\n",
    "data = data.dropna(0)\n",
    "data = data.reset_index()\n",
    "del data[\"index\"]\n",
    "\n",
    "\n",
    "margin = []\n",
    "for row in data['Margin']:\n",
    "\n",
    "    a,b = row.split(\" \")\n",
    "    \n",
    "    if a == \"V\":\n",
    "        b = b*(-1)\n",
    "    \n",
    "    row = b\n",
    "    \n",
    "    margin.append(b)\n",
    "    \n",
    "data['Margin'] = margin  \n",
    "\n",
    "\n",
    "tb = pd.DataFrame( data = [data['Time'], data['Margin']])\n",
    "\n",
    "tb = tb.transpose()\n",
    "\n",
<<<<<<< HEAD
    "\n",
    "#plt.plot( x = 'Time', y = 'Margin')\n",
    "#plt.show()\n",
    "\n",
    "\n",
    "fig = plt.plot(tb[\"Time\"],tb[\"Margin\"], 'b-')\n",
    "fig = plt.scatter(tb[\"Time\"],tb[\"Margin\"], color='green')\n",
    "plt.ylim(0,35)\n",
    "plt.xlim(40,0)\n",
    "plt.xticks(fontsize = 13)\n",
    "plt.yticks(fontsize = 13)\n",
    "plt.ylabel('Score Differential', fontsize = 17)\n",
    "plt.xlabel('Time (minutes, decreasing)', fontsize = 17)\n",
    "plt.plot([20, 20], [0, 35], 'y--', lw=2)\n",
    "plt.title('Cal State Monterey Bay vs. UC San Diego', fontsize = 20)\n",
    "\n",
    "plt.show(fig)"
=======
    "tb\n",
    "plt.plot( x = 'Time', y = 'Margin')\n",
    "plt.show()"
>>>>>>> 67f07fb9616e9c589962042034193792f29f8b55
   ]
  },
  {
   "cell_type": "code",
   "execution_count": null,
   "metadata": {
    "collapsed": true
   },
   "outputs": [],
   "source": []
  }
 ],
 "metadata": {
  "kernelspec": {
<<<<<<< HEAD
   "display_name": "Python 3",
   "language": "python",
   "name": "python3"
=======
   "display_name": "Python [Root]",
   "language": "python",
   "name": "Python [Root]"
>>>>>>> 67f07fb9616e9c589962042034193792f29f8b55
  },
  "language_info": {
   "codemirror_mode": {
    "name": "ipython",
    "version": 3
   },
   "file_extension": ".py",
   "mimetype": "text/x-python",
   "name": "python",
   "nbconvert_exporter": "python",
   "pygments_lexer": "ipython3",
<<<<<<< HEAD
   "version": "3.5.1"
=======
   "version": "3.5.2"
>>>>>>> 67f07fb9616e9c589962042034193792f29f8b55
  }
 },
 "nbformat": 4,
 "nbformat_minor": 0
}
