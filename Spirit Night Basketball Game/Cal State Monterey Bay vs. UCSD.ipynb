{
 "cells": [
  {
   "cell_type": "code",
   "execution_count": 1,
   "metadata": {
    "collapsed": false
   },
   "outputs": [],
   "source": [
    "import pandas as pd\n",
    "import matplotlib.pyplot as plt\n",
    "import bokeh.charts as bk\n",
    "import bokeh.plotting as plot"
   ]
  },
  {
   "cell_type": "code",
   "execution_count": 2,
   "metadata": {
    "collapsed": false
   },
   "outputs": [],
   "source": [
    "data = pd.read_table(\"CalStateMBvsUCSD.txt\", delimiter = '\\t')\n",
    "del data[\"HOME TEAM: UC San Diego\"]\n",
    "del data[\"VISITORS: Cal State Monterey Bay\"]\n",
    "del data[\"Score\"]\n",
    "\n",
    "data = data.dropna(0)\n",
    "data = data.reset_index()\n",
    "del data[\"index\"]\n",
    "\n",
    "\n",
    "margin = []\n",
    "for row in data['Margin']:\n",
    "\n",
    "    a,b = row.split(\" \")\n",
    "    \n",
    "    if a == \"V\":\n",
    "        b = b*(-1)\n",
    "    \n",
    "    row = b\n",
    "    \n",
    "    margin.append(b)\n",
    "    \n",
    "data['Margin'] = margin  \n",
    "\n",
    "time = []\n",
    "\n",
    "last = 21\n",
    "flag = True\n",
    "\n",
    "for row in data['Time']:\n",
    "    [a,b] = row.split(\":\")\n",
    "    b = float(b)/60\n",
    "    b = str(b)\n",
    "    row = a + \".\" + b.split(\".\")[1]\n",
    "    \n",
    "    row = float(row)\n",
    "    \n",
    "    if last < row:\n",
    "        flag = False\n",
    "    \n",
    "    if flag:\n",
    "        last = row\n",
    "        row = row + 20\n",
    "    \n",
    "    row = 40 - row\n",
    "    \n",
    "    time.append(row)\n",
    "    \n",
    "data['Time'] = time\n",
    "#data = data.set_index(\"Time\")\n",
    "data\n",
    "\n",
    "#table = pd.DataFrame(columns = [data['Time'], data['Margin']])\n",
    "#table\n",
    "\n",
    "#fig = data.plot(kind = \"Scatter\", x = time,y = margin)\n",
    "fig = plt.scatter(data[\"Time\"],data[\"Margin\"])\n",
    "plt.show(fig)\n"
   ]
  },
  {
   "cell_type": "code",
   "execution_count": 53,
   "metadata": {
    "collapsed": false
   },
   "outputs": [],
   "source": [
    "#fig = bk.Line(data, title=\"Cal State Monterey Bay vs. UCSD\", legend=\"top_left\",\n",
    "#             xlabel='time', ylabel='score differential')\n",
    "#plot.show(fig)"
   ]
  },
  {
   "cell_type": "code",
   "execution_count": null,
   "metadata": {
    "collapsed": true
   },
   "outputs": [],
   "source": []
  }
 ],
 "metadata": {
  "kernelspec": {
   "display_name": "Python 3",
   "language": "python",
   "name": "python3"
  },
  "language_info": {
   "codemirror_mode": {
    "name": "ipython",
    "version": 3
   },
   "file_extension": ".py",
   "mimetype": "text/x-python",
   "name": "python",
   "nbconvert_exporter": "python",
   "pygments_lexer": "ipython3",
   "version": "3.5.1"
  }
 },
 "nbformat": 4,
 "nbformat_minor": 0
}
