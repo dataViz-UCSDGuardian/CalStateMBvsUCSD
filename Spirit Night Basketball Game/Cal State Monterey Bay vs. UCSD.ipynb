{
 "cells": [
  {
   "cell_type": "code",
   "execution_count": 94,
   "metadata": {
    "collapsed": false
   },
   "outputs": [
    {
     "ename": "NameError",
     "evalue": "name 'matplotlib' is not defined",
     "output_type": "error",
     "traceback": [
      "\u001b[1;31m---------------------------------------------------------------------------\u001b[0m",
      "\u001b[1;31mNameError\u001b[0m                                 Traceback (most recent call last)",
      "\u001b[1;32m<ipython-input-94-8bd032466b61>\u001b[0m in \u001b[0;36m<module>\u001b[1;34m()\u001b[0m\n\u001b[0;32m      2\u001b[0m \u001b[1;32mimport\u001b[0m \u001b[0mnumpy\u001b[0m \u001b[1;32mas\u001b[0m \u001b[0mnp\u001b[0m\u001b[1;33m\u001b[0m\u001b[0m\n\u001b[0;32m      3\u001b[0m \u001b[1;32mimport\u001b[0m \u001b[0mmatplotlib\u001b[0m\u001b[1;33m.\u001b[0m\u001b[0mpyplot\u001b[0m \u001b[1;32mas\u001b[0m \u001b[0mplt\u001b[0m\u001b[1;33m\u001b[0m\u001b[0m\n\u001b[1;32m----> 4\u001b[1;33m \u001b[0mmatplotlib\u001b[0m\u001b[1;33m.\u001b[0m\u001b[0mstyle\u001b[0m\u001b[1;33m.\u001b[0m\u001b[0muse\u001b[0m\u001b[1;33m(\u001b[0m\u001b[1;34m'ggplot'\u001b[0m\u001b[1;33m)\u001b[0m\u001b[1;33m\u001b[0m\u001b[0m\n\u001b[0m",
      "\u001b[1;31mNameError\u001b[0m: name 'matplotlib' is not defined"
     ]
    }
   ],
   "source": [
    "import pandas as pd\n",
    "import numpy as np\n",
    "import matplotlib.pyplot as plt"
   ]
  },
  {
   "cell_type": "code",
   "execution_count": 149,
   "metadata": {
    "collapsed": false
   },
   "outputs": [
    {
     "data": {
      "text/html": [
       "<div>\n",
       "<table border=\"1\" class=\"dataframe\">\n",
       "  <thead>\n",
       "    <tr>\n",
       "      <th>Time</th>\n",
       "      <th>19.31</th>\n",
       "      <th>18.56</th>\n",
       "      <th>18.07</th>\n",
       "      <th>17.47</th>\n",
       "      <th>17.27</th>\n",
       "      <th>16.20</th>\n",
       "      <th colspan=\"2\" halign=\"left\">15.41</th>\n",
       "      <th>15.28</th>\n",
       "      <th>14.20</th>\n",
       "      <th>...</th>\n",
       "      <th>4.58</th>\n",
       "      <th>4.05</th>\n",
       "      <th>3.05</th>\n",
       "      <th colspan=\"2\" halign=\"left\">2.25</th>\n",
       "      <th>2.20</th>\n",
       "      <th>1.57</th>\n",
       "      <th>1.35</th>\n",
       "      <th>0.54</th>\n",
       "      <th>0.20</th>\n",
       "    </tr>\n",
       "    <tr>\n",
       "      <th>Margin</th>\n",
       "      <th>3</th>\n",
       "      <th>4</th>\n",
       "      <th>7</th>\n",
       "      <th>5</th>\n",
       "      <th>8</th>\n",
       "      <th>6</th>\n",
       "      <th>7</th>\n",
       "      <th>8</th>\n",
       "      <th>6</th>\n",
       "      <th>9</th>\n",
       "      <th>...</th>\n",
       "      <th>26</th>\n",
       "      <th>28</th>\n",
       "      <th>30</th>\n",
       "      <th>29</th>\n",
       "      <th>28</th>\n",
       "      <th>29</th>\n",
       "      <th>31</th>\n",
       "      <th>28</th>\n",
       "      <th>30</th>\n",
       "      <th>33</th>\n",
       "    </tr>\n",
       "  </thead>\n",
       "  <tbody>\n",
       "  </tbody>\n",
       "</table>\n",
       "<p>0 rows × 66 columns</p>\n",
       "</div>"
      ],
      "text/plain": [
       "Empty DataFrame\n",
       "Columns: [(19.31, 3), (18.56, 4), (18.07, 7), (17.47, 5), (17.27, 8), (16.2, 6), (15.41, 7), (15.41, 8), (15.28, 6), (14.2, 9), (13.07, 8), (13.07, 7), (11.46, 6), (11.34, 7), (11.34, 8), (11.16, 6), (10.0, 9), (9.01, 10), (9.01, 11), (5.59, 9), (4.57, 10), (4.57, 11), (4.02, 12), (4.02, 13), (3.41, 12), (3.37, 10), (2.2, 11), (1.08, 14), (0.49, 13), (0.49, 12), (0.25, 15), (0.09, 14), (20.0, 13), (19.39, 11), (18.59, 14), (18.39, 11), (18.13, 12), (18.13, 13), (15.52, 11), (15.05, 13), (13.36, 16), (13.05, 19), (12.36, 21), (12.22, 19), (11.51, 22), (11.28, 24), (11.15, 22), (8.42, 24), (7.54, 23), (7.54, 22), (7.15, 23), (7.15, 24), (7.04, 22), (6.42, 25), (6.42, 26), (6.16, 27), (4.58, 26), (4.05, 28), (3.05, 30), (2.25, 29), (2.25, 28), (2.2, 29), (1.57, 31), (1.35, 28), (0.54, 30), (0.2, 33)]\n",
       "Index: []\n",
       "\n",
       "[0 rows x 66 columns]"
      ]
     },
     "execution_count": 149,
     "metadata": {},
     "output_type": "execute_result"
    }
   ],
   "source": [
    "data = pd.read_table(\"CalStateMBvsUCSD.txt\", delimiter = '\\t')\n",
    "del data[\"HOME TEAM: UC San Diego\"]\n",
    "del data[\"VISITORS: Cal State Monterey Bay\"]\n",
    "del data[\"Score\"]\n",
    "\n",
    "\n",
    "\n",
    "data = data.dropna(0)\n",
    "data = data.reset_index()\n",
    "del data[\"index\"]\n",
    "\n",
    "margin = []\n",
    "\n",
    "for row in data['Margin']:\n",
    "\n",
    "    a,b = row.split(\" \")\n",
    "    \n",
    "    if a == \"V\":\n",
    "        b = b*(-1)\n",
    "    \n",
    "    row = b\n",
    "    \n",
    "    margin.append(b)\n",
    "    \n",
    "data['Margin'] = margin  \n",
    "\n",
    "time = []\n",
    "\n",
    "for row in data['Time']:\n",
    "    row = row.replace(\":\",\".\")\n",
    "    row = float(row)\n",
    "    \n",
    "    time.append(row)\n",
    "    \n",
    "data['Time'] = time\n",
    "    \n",
    "data\n",
    "\n",
    "table = pd.DataFrame(columns = [data['Time'], data['Margin']])\n",
    "\n",
    "table\n",
    "\n",
    "#table.plot()\n",
    "#data.show()"
   ]
  },
  {
   "cell_type": "code",
   "execution_count": null,
   "metadata": {
    "collapsed": true
   },
   "outputs": [],
   "source": []
  }
 ],
 "metadata": {
  "kernelspec": {
   "display_name": "Python 3",
   "language": "python",
   "name": "python3"
  },
  "language_info": {
   "codemirror_mode": {
    "name": "ipython",
    "version": 3
   },
   "file_extension": ".py",
   "mimetype": "text/x-python",
   "name": "python",
   "nbconvert_exporter": "python",
   "pygments_lexer": "ipython3",
   "version": "3.5.1"
  }
 },
 "nbformat": 4,
 "nbformat_minor": 0
}
